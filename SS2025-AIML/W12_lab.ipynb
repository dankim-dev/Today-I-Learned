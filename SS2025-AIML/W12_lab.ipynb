{
 "cells": [
  {
   "cell_type": "markdown",
   "id": "126256d2",
   "metadata": {},
   "source": [
    "# 인공지능과 기계학습 12주차 과제\n",
    "\n",
    "신용카드 연체 여부(`default.payment.next.month`)를 예측하는 머신러닝 모델을 구축\n",
    "\n",
    "## 과제 내용\n",
    "- 데이터 로드 및 전처리 (`ID`, 범주형 변수 제거)\n",
    "- 데이터 분할 (8:2)\n",
    "- 정규화 (`StandardScaler`)\n",
    "- 차원 축소 (`PCA`로 90% 이상 설명 주성분)\n",
    "- 분류 모델 학습 (`LinearSVC`, class_weight='balanced') + 교차검증\n",
    "- 최종 테스트 평가 (`classification_report`)\n"
   ]
  },
  {
   "cell_type": "markdown",
   "id": "bf950a11-a274-4aa4-b9ee-c9d309642ea1",
   "metadata": {},
   "source": [
    "## 1. 데이터 로드 & 전처리"
   ]
  },
  {
   "cell_type": "code",
   "execution_count": 1,
   "id": "8a6a18ab",
   "metadata": {},
   "outputs": [],
   "source": [
    "# 데이터 로드\n",
    "\n",
    "import pandas as pd\n",
    "df = pd.read_csv('/Users/dankim/AIML/UCI_Credit_Card.csv')"
   ]
  },
  {
   "cell_type": "code",
   "execution_count": 2,
   "id": "0e3d2270-f64a-4efc-9be5-e6c9413ed0a1",
   "metadata": {},
   "outputs": [
    {
     "name": "stdout",
     "output_type": "stream",
     "text": [
      "(30000, 20)\n",
      "default.payment.next.month\n",
      "0    23364\n",
      "1     6636\n",
      "Name: count, dtype: int64\n"
     ]
    }
   ],
   "source": [
    "# 데이터 전처리\n",
    "\n",
    "# ID 컬럼 제거\n",
    "df = df.drop(columns=['ID'])\n",
    "\n",
    "# 범주형 변수 제거\n",
    "df = df.drop(columns=['SEX', 'EDUCATION', 'MARRIAGE'])\n",
    "\n",
    "# 특징과 타겟 분리\n",
    "X = df.drop(columns=['default.payment.next.month'])\n",
    "y = df['default.payment.next.month']\n",
    "\n",
    "print(X.shape)\n",
    "print(y.value_counts())"
   ]
  },
  {
   "cell_type": "markdown",
   "id": "71479ee7-54ee-479b-b7ec-823f8d1858d2",
   "metadata": {},
   "source": [
    "## 2. 데이터 분할"
   ]
  },
  {
   "cell_type": "code",
   "execution_count": 3,
   "id": "ac01314d",
   "metadata": {},
   "outputs": [],
   "source": [
    "# 데이터 분할\n",
    "\n",
    "from sklearn.model_selection import train_test_split\n",
    "X_train, X_test, y_train, y_test = train_test_split(\n",
    "    X, y, test_size=0.2, random_state=42 # train_test_split을 이용해 8:2로 학습 및 검증 데이터 분할, random_state = 42 고정\n",
    ")"
   ]
  },
  {
   "cell_type": "markdown",
   "id": "66c90b2d-7c71-4ae4-993b-43c4dcbb6ab7",
   "metadata": {},
   "source": [
    "## 3. 스케일링"
   ]
  },
  {
   "cell_type": "code",
   "execution_count": 4,
   "id": "7156bb43",
   "metadata": {},
   "outputs": [],
   "source": [
    "# 스케일링\n",
    "\n",
    "from sklearn.preprocessing import StandardScaler\n",
    "scaler = StandardScaler() # StandardScaler를 사용하여 정규화\n",
    "X_train_scaled = scaler.fit_transform(X_train)\n",
    "X_test_scaled = scaler.transform(X_test)"
   ]
  },
  {
   "cell_type": "markdown",
   "id": "b0fe80ca-8091-4896-9617-0bf0a2f197d4",
   "metadata": {},
   "source": [
    "## 4. 차원 축소"
   ]
  },
  {
   "cell_type": "code",
   "execution_count": 5,
   "id": "0750c90e",
   "metadata": {},
   "outputs": [
    {
     "name": "stdout",
     "output_type": "stream",
     "text": [
      "선택된 최소한의 주성분 수: 10\n"
     ]
    }
   ],
   "source": [
    "# 차원 축소\n",
    "# PCA를 이용해 전체 분산의 90% 이상을 설명하는 최소한의 주성분 수를 자동으로 선택\n",
    "\n",
    "from sklearn.decomposition import PCA\n",
    "pca = PCA(n_components=0.90)\n",
    "X_train_pca = pca.fit_transform(X_train_scaled)\n",
    "X_test_pca = pca.transform(X_test_scaled)\n",
    "print(f'선택된 최소한의 주성분 수: {pca.n_components_}')"
   ]
  },
  {
   "cell_type": "markdown",
   "id": "340ab15c-bab7-4f1b-80bb-3fb422c3a9db",
   "metadata": {},
   "source": [
    "## 5. 분류 모델 학습"
   ]
  },
  {
   "cell_type": "code",
   "execution_count": 6,
   "id": "42f88a8d",
   "metadata": {},
   "outputs": [
    {
     "name": "stdout",
     "output_type": "stream",
     "text": [
      "5-fold 교차 검증 평균 정확도: 0.6805\n"
     ]
    }
   ],
   "source": [
    "# 모델 학습 및 5-fold 교차검증\n",
    "\n",
    "from sklearn.svm import LinearSVC\n",
    "from sklearn.model_selection import cross_val_score\n",
    "\n",
    "model = LinearSVC(class_weight='balanced', max_iter=10000) # 분류기 클래스에 class_weight='balanced' 추가 \n",
    "# (해당 옵션은 불균형한 데이터에서 소수 클래스도 잘 학습하도록 돕는 옵션)\n",
    "scores = cross_val_score(model, X_train_pca, y_train, cv=5, scoring='accuracy')\n",
    "\n",
    "print(f'5-fold 교차 검증 평균 정확도: {scores.mean():.4f}')"
   ]
  },
  {
   "cell_type": "markdown",
   "id": "f486033f-e6f2-4a69-8e61-60ca745b09c0",
   "metadata": {},
   "source": [
    "## 6. 최종 평가"
   ]
  },
  {
   "cell_type": "code",
   "execution_count": 7,
   "id": "0230c692",
   "metadata": {},
   "outputs": [
    {
     "name": "stdout",
     "output_type": "stream",
     "text": [
      "              precision    recall  f1-score   support\n",
      "\n",
      "           0       0.87      0.70      0.78      4687\n",
      "           1       0.37      0.62      0.46      1313\n",
      "\n",
      "    accuracy                           0.68      6000\n",
      "   macro avg       0.62      0.66      0.62      6000\n",
      "weighted avg       0.76      0.68      0.71      6000\n",
      "\n"
     ]
    }
   ],
   "source": [
    "# 최종 성능 평가\n",
    "from sklearn.metrics import classification_report\n",
    "\n",
    "model.fit(X_train_pca, y_train)\n",
    "y_pred = model.predict(X_test_pca)\n",
    "print(classification_report(y_test, y_pred))"
   ]
  }
 ],
 "metadata": {
  "kernelspec": {
   "display_name": "Python 3 (ipykernel)",
   "language": "python",
   "name": "python3"
  },
  "language_info": {
   "codemirror_mode": {
    "name": "ipython",
    "version": 3
   },
   "file_extension": ".py",
   "mimetype": "text/x-python",
   "name": "python",
   "nbconvert_exporter": "python",
   "pygments_lexer": "ipython3",
   "version": "3.11.11"
  }
 },
 "nbformat": 4,
 "nbformat_minor": 5
}
