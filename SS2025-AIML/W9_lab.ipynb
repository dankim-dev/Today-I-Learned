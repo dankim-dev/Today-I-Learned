{
 "cells": [
  {
   "cell_type": "markdown",
   "id": "526c7202-dd2e-4fd6-a5b1-35d75fae45f2",
   "metadata": {},
   "source": [
    "# 인공지능과 기계학습 9주차 과제\n",
    "IT공학전공 2012375 \n",
    "- WINE 데이터셋에서 타겟을 class 0 vs. class 1 이진 분류용 레이블로 변환해 SVM 기반 이진 분류를 진행함"
   ]
  },
  {
   "cell_type": "code",
   "execution_count": 1,
   "id": "c1f6b595-49ed-4c4b-b3fa-9b99ff1e38da",
   "metadata": {},
   "outputs": [],
   "source": [
    "from sklearn.datasets import load_wine\n",
    "import pandas as pd\n",
    "import numpy as np\n",
    "from sklearn.model_selection import train_test_split\n",
    "from sklearn.pipeline import Pipeline\n",
    "from sklearn.preprocessing import StandardScaler\n",
    "from sklearn.svm import SVC\n",
    "from sklearn.model_selection import GridSearchCV\n",
    "from sklearn.metrics import accuracy_score, classification_report"
   ]
  },
  {
   "cell_type": "markdown",
   "id": "2326f044-5297-44f8-bfe2-c82b4911a1ed",
   "metadata": {},
   "source": [
    "## 1. 데이터 로드 & 특징 및 타겟 정의"
   ]
  },
  {
   "cell_type": "code",
   "execution_count": 2,
   "id": "fadad084-1ae0-40a0-9a5a-a6b752b02178",
   "metadata": {},
   "outputs": [],
   "source": [
    "# 1. 데이터 로드 & 특징 및 타겟 정의\n",
    "wine = load_wine()\n",
    "X_all = pd.DataFrame(wine.data, columns=wine.feature_names)\n",
    "y_all = wine.target"
   ]
  },
  {
   "cell_type": "code",
   "execution_count": 3,
   "id": "5bd0a71e-9165-43e8-94b8-2ee4f0569df9",
   "metadata": {},
   "outputs": [
    {
     "name": "stdout",
     "output_type": "stream",
     "text": [
      "기본 정보:\n",
      "<class 'pandas.core.frame.DataFrame'>\n",
      "Index: 130 entries, 0 to 129\n",
      "Data columns (total 13 columns):\n",
      " #   Column                        Non-Null Count  Dtype  \n",
      "---  ------                        --------------  -----  \n",
      " 0   alcohol                       130 non-null    float64\n",
      " 1   malic_acid                    130 non-null    float64\n",
      " 2   ash                           130 non-null    float64\n",
      " 3   alcalinity_of_ash             130 non-null    float64\n",
      " 4   magnesium                     130 non-null    float64\n",
      " 5   total_phenols                 130 non-null    float64\n",
      " 6   flavanoids                    130 non-null    float64\n",
      " 7   nonflavanoid_phenols          130 non-null    float64\n",
      " 8   proanthocyanins               130 non-null    float64\n",
      " 9   color_intensity               130 non-null    float64\n",
      " 10  hue                           130 non-null    float64\n",
      " 11  od280/od315_of_diluted_wines  130 non-null    float64\n",
      " 12  proline                       130 non-null    float64\n",
      "dtypes: float64(13)\n",
      "memory usage: 14.2 KB\n",
      "None\n",
      "\n",
      " 통계 요약:\n",
      "          alcohol  malic_acid         ash  alcalinity_of_ash   magnesium  \\\n",
      "count  130.000000  130.000000  130.000000         130.000000  130.000000   \n",
      "mean    12.944077    1.968077    2.340462          18.785385   99.900000   \n",
      "std      0.888769    0.879968    0.297162           3.400459   15.381379   \n",
      "min     11.030000    0.740000    1.360000          10.600000   70.000000   \n",
      "25%     12.227500    1.510000    2.170000          16.525000   88.000000   \n",
      "50%     13.010000    1.730000    2.320000          18.550000   98.000000   \n",
      "75%     13.727500    2.057500    2.527500          20.950000  108.000000   \n",
      "max     14.830000    5.800000    3.230000          30.000000  162.000000   \n",
      "\n",
      "       total_phenols  flavanoids  nonflavanoid_phenols  proanthocyanins  \\\n",
      "count     130.000000  130.000000            130.000000       130.000000   \n",
      "mean        2.522692    2.490000              0.330231         1.752385   \n",
      "std         0.545393    0.737765              0.109087         0.539572   \n",
      "min         1.100000    0.570000              0.130000         0.410000   \n",
      "25%         2.147500    2.002500              0.260000         1.422500   \n",
      "50%         2.560000    2.565000              0.300000         1.705000   \n",
      "75%         2.937500    2.997500              0.397500         2.005000   \n",
      "max         3.880000    5.080000              0.660000         3.580000   \n",
      "\n",
      "       color_intensity         hue  od280/od315_of_diluted_wines      proline  \n",
      "count       130.000000  130.000000                    130.000000   130.000000  \n",
      "mean          4.194769    1.058892                      2.954385   790.092308  \n",
      "std           1.625782    0.168690                      0.475166   352.513026  \n",
      "min           1.280000    0.690000                      1.590000   278.000000  \n",
      "25%           2.862500    0.940000                      2.732500   474.000000  \n",
      "50%           3.870000    1.050000                      2.980000   716.000000  \n",
      "75%           5.375000    1.167500                      3.300000  1063.750000  \n",
      "max           8.900000    1.710000                      4.000000  1680.000000  \n",
      "\n",
      " 타겟 분포:\n",
      "1    71\n",
      "0    59\n",
      "Name: count, dtype: int64\n"
     ]
    }
   ],
   "source": [
    "# 1. 타겟을 이진 분류용 레이블로 변환\n",
    "\n",
    "# class 0과 class 1만 선택\n",
    "mask = (y_all == 0) | (y_all == 1)\n",
    "X = X_all[mask]\n",
    "y = y_all[mask]\n",
    "\n",
    "# 타겟 이진화: class 0은 0, class 1은 1\n",
    "y = np.where(y == 0, 0, 1)\n",
    "\n",
    "# 데이터 특성 파악\n",
    "print(\"기본 정보:\")\n",
    "print(X.info())\n",
    "print(\"\\n 통계 요약:\")\n",
    "print(X.describe())\n",
    "print(\"\\n 타겟 분포:\")\n",
    "print(pd.Series(y).value_counts())"
   ]
  },
  {
   "cell_type": "markdown",
   "id": "190e40ff-2e46-4dda-9dc7-c60f897f78fb",
   "metadata": {},
   "source": [
    "## 2. 데이터 분할"
   ]
  },
  {
   "cell_type": "code",
   "execution_count": 4,
   "id": "3daf3a9c-186c-467a-9496-e60e11d34284",
   "metadata": {},
   "outputs": [],
   "source": [
    "# 2. 데이터 분할 (7:3 비율, random_state = 42 정의)\n",
    "X_train, X_test, y_train, y_test = train_test_split(\n",
    "    X, y, test_size=0.3, random_state=42\n",
    ")"
   ]
  },
  {
   "cell_type": "markdown",
   "id": "1082e7e7-375e-4988-a400-fe62ffcf60be",
   "metadata": {},
   "source": [
    "## 3. 파이프라인 구성"
   ]
  },
  {
   "cell_type": "code",
   "execution_count": 5,
   "id": "db570935-5d4b-4f7d-b378-1b76bc4205aa",
   "metadata": {},
   "outputs": [],
   "source": [
    "pipeline = Pipeline([\n",
    "    ('scaler', StandardScaler()), # 정규화\n",
    "    ('svc', SVC()) # SVM 모델 정의\n",
    "])"
   ]
  },
  {
   "cell_type": "markdown",
   "id": "24091bf9-47e9-43bc-9600-2dff60e6b030",
   "metadata": {},
   "source": [
    "## 4. 하이퍼파라미터 튜닝"
   ]
  },
  {
   "cell_type": "code",
   "execution_count": 6,
   "id": "38f78a0f-30ec-4088-bf4b-d446241fc1ab",
   "metadata": {},
   "outputs": [
    {
     "name": "stdout",
     "output_type": "stream",
     "text": [
      "최적 하이퍼파라미터: {'svc__C': 1, 'svc__kernel': 'linear'}\n"
     ]
    }
   ],
   "source": [
    "# 4. 하이퍼파라미터 튜닝 (Grid Search)\n",
    "\n",
    "param_grid = [\n",
    "    {\n",
    "        'svc__kernel': ['linear'],\n",
    "        'svc__C': [0.01, 0.1, 1, 10, 100]\n",
    "    },\n",
    "    {\n",
    "        'svc__kernel': ['rbf'],\n",
    "        'svc__C': [0.1, 1, 10, 100],\n",
    "        'svc__gamma': [0.01, 0.1, 1, 10]\n",
    "    }\n",
    "]\n",
    "\n",
    "grid_search = GridSearchCV(pipeline, param_grid, cv=5, scoring='accuracy', n_jobs=-1)\n",
    "grid_search.fit(X_train, y_train)\n",
    "\n",
    "print('최적 하이퍼파라미터:', grid_search.best_params_)"
   ]
  },
  {
   "cell_type": "markdown",
   "id": "e1d52776-9cae-4393-b5b2-c50e4f39bac6",
   "metadata": {},
   "source": [
    "## 5. 최종 성능 평가"
   ]
  },
  {
   "cell_type": "code",
   "execution_count": 7,
   "id": "34851820-566d-4ce6-b952-e3c3ee9a34f6",
   "metadata": {},
   "outputs": [
    {
     "name": "stdout",
     "output_type": "stream",
     "text": [
      "최적 하이퍼파라미터 셋 확인:\n",
      "{'svc__C': 1, 'svc__kernel': 'linear'}\n",
      "\n",
      "테스트 정확도: 1.0\n",
      "\n",
      "분류 성능 리포트:\n",
      "\n",
      "              precision    recall  f1-score   support\n",
      "\n",
      "           0       1.00      1.00      1.00        20\n",
      "           1       1.00      1.00      1.00        19\n",
      "\n",
      "    accuracy                           1.00        39\n",
      "   macro avg       1.00      1.00      1.00        39\n",
      "weighted avg       1.00      1.00      1.00        39\n",
      "\n"
     ]
    }
   ],
   "source": [
    "# 5. 최종 성능 평가\n",
    "\n",
    "# 최적 하이퍼파라미터 출력\n",
    "print(\"최적 하이퍼파라미터 셋 확인:\")\n",
    "print(grid_search.best_params_)\n",
    "\n",
    "# 테스트 데이터 예측 및 평가 \n",
    "best_model = grid_search.best_estimator_\n",
    "y_pred = best_model.predict(X_test)\n",
    "\n",
    "print(\"\\n테스트 정확도:\", accuracy_score(y_test, y_pred))\n",
    "print(\"\\n분류 성능 리포트:\\n\")\n",
    "print(classification_report(y_test, y_pred))"
   ]
  }
 ],
 "metadata": {
  "kernelspec": {
   "display_name": "Python 3 (ipykernel)",
   "language": "python",
   "name": "python3"
  },
  "language_info": {
   "codemirror_mode": {
    "name": "ipython",
    "version": 3
   },
   "file_extension": ".py",
   "mimetype": "text/x-python",
   "name": "python",
   "nbconvert_exporter": "python",
   "pygments_lexer": "ipython3",
   "version": "3.11.11"
  }
 },
 "nbformat": 4,
 "nbformat_minor": 5
}
