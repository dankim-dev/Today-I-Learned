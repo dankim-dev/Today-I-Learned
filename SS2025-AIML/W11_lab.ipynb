{
 "cells": [
  {
   "cell_type": "markdown",
   "id": "38d20fc2-1b32-43f0-859f-fe9038a13cce",
   "metadata": {},
   "source": [
    "# 인공지능과 기계학습 11주차 과제\n",
    "\n",
    "신용카드 고객 데이터를 이용하여 연체 여부 예측하기\n",
    "\n",
    "## 과제 내용\n",
    "- 데이터 전처리 및 분할\n",
    "- 앙상블 기반 모델 파이프라인 구성 및 교차검증\n",
    "- RandomForest 기반 특징 중요도 분석\n",
    "- XGBClassifier 하이퍼파라미터 튜닝 및 테스트셋 성능 평가\n"
   ]
  },
  {
   "cell_type": "markdown",
   "id": "e15fe20c-c6cf-4636-9af1-665c4e222950",
   "metadata": {},
   "source": [
    "## 1. 데이터 로드 & 전처리"
   ]
  },
  {
   "cell_type": "code",
   "execution_count": 1,
   "id": "1951630b-2ad4-4f14-b466-5584e5ffaddf",
   "metadata": {},
   "outputs": [
    {
     "name": "stdout",
     "output_type": "stream",
     "text": [
      "Requirement already satisfied: xgboost in /opt/homebrew/anaconda3/envs/AIML/lib/python3.11/site-packages (3.0.1)\n",
      "Requirement already satisfied: numpy in /opt/homebrew/anaconda3/envs/AIML/lib/python3.11/site-packages (from xgboost) (1.26.4)\n",
      "Requirement already satisfied: scipy in /opt/homebrew/anaconda3/envs/AIML/lib/python3.11/site-packages (from xgboost) (1.15.1)\n",
      "Note: you may need to restart the kernel to use updated packages.\n"
     ]
    }
   ],
   "source": [
    "pip install xgboost"
   ]
  },
  {
   "cell_type": "code",
   "execution_count": 2,
   "id": "d916fa69-8802-449c-a08b-928ad30a59f3",
   "metadata": {},
   "outputs": [],
   "source": [
    "import pandas as pd\n",
    "from sklearn.model_selection import train_test_split\n",
    "from sklearn.pipeline import Pipeline\n",
    "from sklearn.compose import ColumnTransformer\n",
    "from sklearn.preprocessing import StandardScaler, OneHotEncoder\n",
    "from sklearn.ensemble import (VotingClassifier, BaggingClassifier, RandomForestClassifier,\n",
    "                              AdaBoostClassifier, GradientBoostingClassifier, StackingClassifier)\n",
    "from sklearn.linear_model import LogisticRegression\n",
    "from sklearn.tree import DecisionTreeClassifier\n",
    "from xgboost import XGBClassifier\n",
    "from sklearn.model_selection import cross_val_score\n",
    "import numpy as np\n",
    "\n",
    "from sklearn.model_selection import RandomizedSearchCV\n",
    "\n",
    "from sklearn.metrics import accuracy_score, classification_report"
   ]
  },
  {
   "cell_type": "code",
   "execution_count": 3,
   "id": "1ac07cb5",
   "metadata": {},
   "outputs": [],
   "source": [
    "# 데이터 로드\n",
    "\n",
    "data = pd.read_csv('/Users/dankim/AIML/UCI_Credit_Card.csv')"
   ]
  },
  {
   "cell_type": "code",
   "execution_count": 4,
   "id": "674e94b2-3e65-4eb9-a124-a383f31b7c21",
   "metadata": {},
   "outputs": [
    {
     "name": "stdout",
     "output_type": "stream",
     "text": [
      "<class 'pandas.core.frame.DataFrame'>\n",
      "RangeIndex: 30000 entries, 0 to 29999\n",
      "Data columns (total 23 columns):\n",
      " #   Column     Non-Null Count  Dtype  \n",
      "---  ------     --------------  -----  \n",
      " 0   LIMIT_BAL  30000 non-null  float64\n",
      " 1   SEX        30000 non-null  int64  \n",
      " 2   EDUCATION  30000 non-null  int64  \n",
      " 3   MARRIAGE   30000 non-null  int64  \n",
      " 4   AGE        30000 non-null  int64  \n",
      " 5   PAY_0      30000 non-null  int64  \n",
      " 6   PAY_2      30000 non-null  int64  \n",
      " 7   PAY_3      30000 non-null  int64  \n",
      " 8   PAY_4      30000 non-null  int64  \n",
      " 9   PAY_5      30000 non-null  int64  \n",
      " 10  PAY_6      30000 non-null  int64  \n",
      " 11  BILL_AMT1  30000 non-null  float64\n",
      " 12  BILL_AMT2  30000 non-null  float64\n",
      " 13  BILL_AMT3  30000 non-null  float64\n",
      " 14  BILL_AMT4  30000 non-null  float64\n",
      " 15  BILL_AMT5  30000 non-null  float64\n",
      " 16  BILL_AMT6  30000 non-null  float64\n",
      " 17  PAY_AMT1   30000 non-null  float64\n",
      " 18  PAY_AMT2   30000 non-null  float64\n",
      " 19  PAY_AMT3   30000 non-null  float64\n",
      " 20  PAY_AMT4   30000 non-null  float64\n",
      " 21  PAY_AMT5   30000 non-null  float64\n",
      " 22  PAY_AMT6   30000 non-null  float64\n",
      "dtypes: float64(13), int64(10)\n",
      "memory usage: 5.3 MB\n",
      "None\n",
      "\n",
      "타겟 분포:\n",
      " default.payment.next.month\n",
      "0    23364\n",
      "1     6636\n",
      "Name: count, dtype: int64\n"
     ]
    }
   ],
   "source": [
    "# 데이터 전처리\n",
    "\n",
    "data = data.drop(columns=['ID']) # ID 컬럼 제거\n",
    "\n",
    "# 특징과 타겟 분리 (타겟은 `default.payment.next.month`)\n",
    "X = data.drop(columns=['default.payment.next.month'])\n",
    "y = data['default.payment.next.month']\n",
    "print(X.info())\n",
    "print('\\n타겟 분포:\\n', y.value_counts())"
   ]
  },
  {
   "cell_type": "markdown",
   "id": "16d28d35-3934-41b2-a47f-34eeec2db7ac",
   "metadata": {},
   "source": [
    "## 2. 데이터 분할"
   ]
  },
  {
   "cell_type": "code",
   "execution_count": 5,
   "id": "2d4d98ea",
   "metadata": {},
   "outputs": [],
   "source": [
    "# train_test_split\n",
    "\n",
    "X_train, X_test, y_train, y_test = train_test_split(\n",
    "    X, y, test_size=0.3, random_state=42\n",
    ")"
   ]
  },
  {
   "cell_type": "markdown",
   "id": "506f096f-62d4-4540-a756-b174301676a6",
   "metadata": {},
   "source": [
    "## 3. 파이프라인 구성"
   ]
  },
  {
   "cell_type": "code",
   "execution_count": 6,
   "id": "2b2fcd06",
   "metadata": {},
   "outputs": [
    {
     "name": "stdout",
     "output_type": "stream",
     "text": [
      "Voting 평균 정확도: 0.8199\n",
      "Bagging 평균 정확도: 0.8034\n",
      "RandomForest 평균 정확도: 0.8155\n",
      "AdaBoost 평균 정확도: 0.7648\n",
      "GradientBoosting 평균 정확도: 0.8208\n",
      "XGBoost 평균 정확도: 0.8117\n",
      "Stacking 평균 정확도: 0.8208\n"
     ]
    }
   ],
   "source": [
    "# 범주형 / 수치형 변수 분리\n",
    "categorical_features = ['SEX', 'EDUCATION', 'MARRIAGE']\n",
    "numeric_features = [col for col in X.columns if col not in categorical_features]\n",
    "\n",
    "# 전처리 파이프라인 구성\n",
    "preprocessor = ColumnTransformer([\n",
    "    ('num', StandardScaler(), numeric_features),\n",
    "    ('cat', OneHotEncoder(handle_unknown='ignore'), categorical_features)\n",
    "])\n",
    "\n",
    "# 기본 하이퍼파라미터 모델로 구성\n",
    "models = {\n",
    "    'Voting': VotingClassifier([\n",
    "        ('lr', LogisticRegression(max_iter=1000)),\n",
    "        ('rf', RandomForestClassifier()),\n",
    "        ('gb', GradientBoostingClassifier())\n",
    "    ], voting='soft'),\n",
    "\n",
    "    'Bagging': BaggingClassifier(DecisionTreeClassifier()),\n",
    "\n",
    "    'RandomForest': RandomForestClassifier(),\n",
    "\n",
    "    'AdaBoost': AdaBoostClassifier(DecisionTreeClassifier()),\n",
    "\n",
    "    'GradientBoosting': GradientBoostingClassifier(),\n",
    "\n",
    "    'XGBoost': XGBClassifier(),  # 하이퍼파라미터 없이 기본 모델\n",
    "\n",
    "    'Stacking': StackingClassifier(\n",
    "        estimators=[\n",
    "            ('ada', AdaBoostClassifier()),\n",
    "            ('rf', RandomForestClassifier()),\n",
    "            ('xgb', XGBClassifier())\n",
    "        ],\n",
    "        final_estimator=LogisticRegression(max_iter=1000)\n",
    "    )\n",
    "}\n",
    "\n",
    "# 교차검증으로 성능 평가\n",
    "for name, model in models.items():\n",
    "    pipeline = Pipeline([\n",
    "        ('preprocessor', preprocessor),\n",
    "        ('classifier', model)\n",
    "    ])\n",
    "    scores = cross_val_score(pipeline, X_train, y_train, cv=5, scoring='accuracy')\n",
    "    print(f'{name} 평균 정확도: {np.mean(scores):.4f}')"
   ]
  },
  {
   "cell_type": "markdown",
   "id": "4b26ecf1-34a1-4d31-8be4-fa2700e992e8",
   "metadata": {},
   "source": [
    "## 4. 특징 중요도 확인"
   ]
  },
  {
   "cell_type": "code",
   "execution_count": 7,
   "id": "2e61903a",
   "metadata": {},
   "outputs": [
    {
     "name": "stdout",
     "output_type": "stream",
     "text": [
      "      Feature  Importance\n",
      "2       PAY_0    0.095963\n",
      "1         AGE    0.064626\n",
      "0   LIMIT_BAL    0.058387\n",
      "8   BILL_AMT1    0.057245\n",
      "9   BILL_AMT2    0.052433\n",
      "10  BILL_AMT3    0.050371\n",
      "14   PAY_AMT1    0.049938\n",
      "13  BILL_AMT6    0.049040\n",
      "11  BILL_AMT4    0.048856\n",
      "12  BILL_AMT5    0.048590\n"
     ]
    }
   ],
   "source": [
    "# 특징 중요도 확인 (RandomForestClassifier)\n",
    "rf_pipeline = Pipeline([\n",
    "    ('preprocessor', preprocessor),\n",
    "    ('classifier', RandomForestClassifier())\n",
    "])\n",
    "rf_pipeline.fit(X_train, y_train)\n",
    "feature_names_cat = rf_pipeline.named_steps['preprocessor'].named_transformers_['cat'].get_feature_names_out(categorical_features)\n",
    "all_features = np.concatenate([numeric_features, feature_names_cat])\n",
    "importances = rf_pipeline.named_steps['classifier'].feature_importances_\n",
    "\n",
    "feature_importances = pd.DataFrame({'Feature': all_features, 'Importance': importances})\n",
    "print(feature_importances.sort_values(by='Importance', ascending=False).head(10))"
   ]
  },
  {
   "cell_type": "markdown",
   "id": "e6e04d18-5e32-46fb-bf25-5219f973e51a",
   "metadata": {},
   "source": [
    "## 5. 하이퍼파라미터 튜닝"
   ]
  },
  {
   "cell_type": "code",
   "execution_count": 8,
   "id": "86892d1b",
   "metadata": {},
   "outputs": [
    {
     "name": "stdout",
     "output_type": "stream",
     "text": [
      "Fitting 5 folds for each of 50 candidates, totalling 250 fits\n",
      "최적 하이퍼파라미터: {'classifier__n_estimators': 200, 'classifier__max_depth': 3, 'classifier__learning_rate': 0.1, 'classifier__colsample_bytree': 0.8}\n"
     ]
    }
   ],
   "source": [
    "# XGBClassifier 하이퍼파라미터 튜닝\n",
    "xgb_pipeline = Pipeline([\n",
    "    ('preprocessor', preprocessor),\n",
    "    ('classifier', XGBClassifier(eval_metric='logloss'))\n",
    "])\n",
    "param_grid = {\n",
    "    'classifier__n_estimators': [50, 100, 200],\n",
    "    'classifier__max_depth': [3, 5, 7, 9],\n",
    "    'classifier__learning_rate': [0.001, 0.01, 0.1],\n",
    "    'classifier__colsample_bytree': [0.6, 0.8, 1.0]\n",
    "}\n",
    "random_search = RandomizedSearchCV( # 각 모델의 성능을 탐색\n",
    "    xgb_pipeline, param_distributions=param_grid, n_iter=50,\n",
    "    scoring='accuracy', cv=5, verbose=1, random_state=42, n_jobs=-1\n",
    ")\n",
    "random_search.fit(X_train, y_train)\n",
    "print('최적 하이퍼파라미터:', random_search.best_params_)"
   ]
  },
  {
   "cell_type": "markdown",
   "id": "65469b8d-d1e3-4d8f-8992-94a948691a17",
   "metadata": {},
   "source": [
    "## 6. 최적 모델 평가"
   ]
  },
  {
   "cell_type": "code",
   "execution_count": 9,
   "id": "84b70b2c",
   "metadata": {},
   "outputs": [
    {
     "name": "stdout",
     "output_type": "stream",
     "text": [
      "test 정확도: 0.8198888888888889\n",
      "\n",
      "분류 성능 리포트:\n",
      "               precision    recall  f1-score   support\n",
      "\n",
      "           0       0.84      0.95      0.89      7040\n",
      "           1       0.66      0.35      0.46      1960\n",
      "\n",
      "    accuracy                           0.82      9000\n",
      "   macro avg       0.75      0.65      0.68      9000\n",
      "weighted avg       0.80      0.82      0.80      9000\n",
      "\n"
     ]
    }
   ],
   "source": [
    "# 최종 성능 평가 (테스트 세트에 대한)\n",
    "best_model = random_search.best_estimator_\n",
    "y_pred = best_model.predict(X_test)\n",
    "print('test 정확도:', accuracy_score(y_test, y_pred))\n",
    "print('\\n분류 성능 리포트:\\n', classification_report(y_test, y_pred))"
   ]
  },
  {
   "cell_type": "code",
   "execution_count": null,
   "id": "bcf2eab2-b4ff-4d8d-b4b8-0cc1299eea03",
   "metadata": {},
   "outputs": [],
   "source": []
  }
 ],
 "metadata": {
  "kernelspec": {
   "display_name": "Python 3 (ipykernel)",
   "language": "python",
   "name": "python3"
  },
  "language_info": {
   "codemirror_mode": {
    "name": "ipython",
    "version": 3
   },
   "file_extension": ".py",
   "mimetype": "text/x-python",
   "name": "python",
   "nbconvert_exporter": "python",
   "pygments_lexer": "ipython3",
   "version": "3.11.11"
  }
 },
 "nbformat": 4,
 "nbformat_minor": 5
}
