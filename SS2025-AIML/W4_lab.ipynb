{
 "cells": [
  {
   "cell_type": "markdown",
   "id": "154f5298",
   "metadata": {},
   "source": [
    "# 인공지능과 기계학습 4주차 과제\n",
    "IT공학전공 2012375 김단"
   ]
  },
  {
   "cell_type": "markdown",
   "id": "8793ec6f",
   "metadata": {},
   "source": [
    "## 1. 데이터 불러오기 및 탐색"
   ]
  },
  {
   "cell_type": "code",
   "execution_count": 1,
   "id": "9dd7f347-4d50-49c7-8e2d-bc50d7bd6d50",
   "metadata": {},
   "outputs": [],
   "source": [
    "import pandas as pd\n",
    "import matplotlib.pyplot as plt\n",
    "import seaborn as sns\n",
    "import numpy as np\n",
    "\n",
    "from sklearn.model_selection import train_test_split\n",
    "from sklearn.compose import ColumnTransformer\n",
    "from sklearn.pipeline import Pipeline\n",
    "from sklearn.model_selection import cross_val_score\n",
    "from sklearn.preprocessing import StandardScaler, OneHotEncoder\n",
    "from sklearn.linear_model import SGDClassifier\n",
    "from sklearn.pipeline import make_pipeline\n",
    "from sklearn.metrics import precision_recall_curve, precision_score, recall_score, f1_score, confusion_matrix\n",
    "from sklearn.metrics import classification_report, accuracy_score"
   ]
  },
  {
   "cell_type": "code",
   "execution_count": 2,
   "id": "0c415773",
   "metadata": {},
   "outputs": [
    {
     "data": {
      "text/html": [
       "<div>\n",
       "<style scoped>\n",
       "    .dataframe tbody tr th:only-of-type {\n",
       "        vertical-align: middle;\n",
       "    }\n",
       "\n",
       "    .dataframe tbody tr th {\n",
       "        vertical-align: top;\n",
       "    }\n",
       "\n",
       "    .dataframe thead th {\n",
       "        text-align: right;\n",
       "    }\n",
       "</style>\n",
       "<table border=\"1\" class=\"dataframe\">\n",
       "  <thead>\n",
       "    <tr style=\"text-align: right;\">\n",
       "      <th></th>\n",
       "      <th>Student_ID</th>\n",
       "      <th>Gender</th>\n",
       "      <th>Study_Hours_per_Week</th>\n",
       "      <th>Attendance_Rate</th>\n",
       "      <th>Past_Exam_Scores</th>\n",
       "      <th>Parental_Education_Level</th>\n",
       "      <th>Internet_Access_at_Home</th>\n",
       "      <th>Extracurricular_Activities</th>\n",
       "      <th>Final_Exam_Score</th>\n",
       "      <th>Pass_Fail</th>\n",
       "    </tr>\n",
       "  </thead>\n",
       "  <tbody>\n",
       "    <tr>\n",
       "      <th>0</th>\n",
       "      <td>S147</td>\n",
       "      <td>Male</td>\n",
       "      <td>31</td>\n",
       "      <td>68.267841</td>\n",
       "      <td>86</td>\n",
       "      <td>High School</td>\n",
       "      <td>Yes</td>\n",
       "      <td>Yes</td>\n",
       "      <td>63</td>\n",
       "      <td>Pass</td>\n",
       "    </tr>\n",
       "    <tr>\n",
       "      <th>1</th>\n",
       "      <td>S136</td>\n",
       "      <td>Male</td>\n",
       "      <td>16</td>\n",
       "      <td>78.222927</td>\n",
       "      <td>73</td>\n",
       "      <td>PhD</td>\n",
       "      <td>No</td>\n",
       "      <td>No</td>\n",
       "      <td>50</td>\n",
       "      <td>Fail</td>\n",
       "    </tr>\n",
       "    <tr>\n",
       "      <th>2</th>\n",
       "      <td>S209</td>\n",
       "      <td>Female</td>\n",
       "      <td>21</td>\n",
       "      <td>87.525096</td>\n",
       "      <td>74</td>\n",
       "      <td>PhD</td>\n",
       "      <td>Yes</td>\n",
       "      <td>No</td>\n",
       "      <td>55</td>\n",
       "      <td>Fail</td>\n",
       "    </tr>\n",
       "    <tr>\n",
       "      <th>3</th>\n",
       "      <td>S458</td>\n",
       "      <td>Female</td>\n",
       "      <td>27</td>\n",
       "      <td>92.076483</td>\n",
       "      <td>99</td>\n",
       "      <td>Bachelors</td>\n",
       "      <td>No</td>\n",
       "      <td>No</td>\n",
       "      <td>65</td>\n",
       "      <td>Pass</td>\n",
       "    </tr>\n",
       "    <tr>\n",
       "      <th>4</th>\n",
       "      <td>S078</td>\n",
       "      <td>Female</td>\n",
       "      <td>37</td>\n",
       "      <td>98.655517</td>\n",
       "      <td>63</td>\n",
       "      <td>Masters</td>\n",
       "      <td>No</td>\n",
       "      <td>Yes</td>\n",
       "      <td>70</td>\n",
       "      <td>Pass</td>\n",
       "    </tr>\n",
       "    <tr>\n",
       "      <th>...</th>\n",
       "      <td>...</td>\n",
       "      <td>...</td>\n",
       "      <td>...</td>\n",
       "      <td>...</td>\n",
       "      <td>...</td>\n",
       "      <td>...</td>\n",
       "      <td>...</td>\n",
       "      <td>...</td>\n",
       "      <td>...</td>\n",
       "      <td>...</td>\n",
       "    </tr>\n",
       "    <tr>\n",
       "      <th>703</th>\n",
       "      <td>S492</td>\n",
       "      <td>Male</td>\n",
       "      <td>14</td>\n",
       "      <td>84.658761</td>\n",
       "      <td>78</td>\n",
       "      <td>PhD</td>\n",
       "      <td>Yes</td>\n",
       "      <td>No</td>\n",
       "      <td>50</td>\n",
       "      <td>Fail</td>\n",
       "    </tr>\n",
       "    <tr>\n",
       "      <th>704</th>\n",
       "      <td>S301</td>\n",
       "      <td>Male</td>\n",
       "      <td>35</td>\n",
       "      <td>60.278990</td>\n",
       "      <td>83</td>\n",
       "      <td>Masters</td>\n",
       "      <td>No</td>\n",
       "      <td>No</td>\n",
       "      <td>62</td>\n",
       "      <td>Pass</td>\n",
       "    </tr>\n",
       "    <tr>\n",
       "      <th>705</th>\n",
       "      <td>S473</td>\n",
       "      <td>Male</td>\n",
       "      <td>25</td>\n",
       "      <td>98.384969</td>\n",
       "      <td>75</td>\n",
       "      <td>Bachelors</td>\n",
       "      <td>Yes</td>\n",
       "      <td>No</td>\n",
       "      <td>57</td>\n",
       "      <td>Fail</td>\n",
       "    </tr>\n",
       "    <tr>\n",
       "      <th>706</th>\n",
       "      <td>S307</td>\n",
       "      <td>Female</td>\n",
       "      <td>21</td>\n",
       "      <td>96.148012</td>\n",
       "      <td>84</td>\n",
       "      <td>Bachelors</td>\n",
       "      <td>Yes</td>\n",
       "      <td>No</td>\n",
       "      <td>65</td>\n",
       "      <td>Pass</td>\n",
       "    </tr>\n",
       "    <tr>\n",
       "      <th>707</th>\n",
       "      <td>S046</td>\n",
       "      <td>Female</td>\n",
       "      <td>22</td>\n",
       "      <td>80.404392</td>\n",
       "      <td>93</td>\n",
       "      <td>Bachelors</td>\n",
       "      <td>Yes</td>\n",
       "      <td>No</td>\n",
       "      <td>55</td>\n",
       "      <td>Fail</td>\n",
       "    </tr>\n",
       "  </tbody>\n",
       "</table>\n",
       "<p>708 rows × 10 columns</p>\n",
       "</div>"
      ],
      "text/plain": [
       "    Student_ID  Gender  Study_Hours_per_Week  Attendance_Rate  \\\n",
       "0         S147    Male                    31        68.267841   \n",
       "1         S136    Male                    16        78.222927   \n",
       "2         S209  Female                    21        87.525096   \n",
       "3         S458  Female                    27        92.076483   \n",
       "4         S078  Female                    37        98.655517   \n",
       "..         ...     ...                   ...              ...   \n",
       "703       S492    Male                    14        84.658761   \n",
       "704       S301    Male                    35        60.278990   \n",
       "705       S473    Male                    25        98.384969   \n",
       "706       S307  Female                    21        96.148012   \n",
       "707       S046  Female                    22        80.404392   \n",
       "\n",
       "     Past_Exam_Scores Parental_Education_Level Internet_Access_at_Home  \\\n",
       "0                  86              High School                     Yes   \n",
       "1                  73                      PhD                      No   \n",
       "2                  74                      PhD                     Yes   \n",
       "3                  99                Bachelors                      No   \n",
       "4                  63                  Masters                      No   \n",
       "..                ...                      ...                     ...   \n",
       "703                78                      PhD                     Yes   \n",
       "704                83                  Masters                      No   \n",
       "705                75                Bachelors                     Yes   \n",
       "706                84                Bachelors                     Yes   \n",
       "707                93                Bachelors                     Yes   \n",
       "\n",
       "    Extracurricular_Activities  Final_Exam_Score Pass_Fail  \n",
       "0                          Yes                63      Pass  \n",
       "1                           No                50      Fail  \n",
       "2                           No                55      Fail  \n",
       "3                           No                65      Pass  \n",
       "4                          Yes                70      Pass  \n",
       "..                         ...               ...       ...  \n",
       "703                         No                50      Fail  \n",
       "704                         No                62      Pass  \n",
       "705                         No                57      Fail  \n",
       "706                         No                65      Pass  \n",
       "707                         No                55      Fail  \n",
       "\n",
       "[708 rows x 10 columns]"
      ]
     },
     "execution_count": 2,
     "metadata": {},
     "output_type": "execute_result"
    }
   ],
   "source": [
    "# 데이터 불러오기\n",
    "df = pd.read_csv(\"/Users/dankim/AIML/student.csv\")\n",
    "df"
   ]
  },
  {
   "cell_type": "code",
   "execution_count": 3,
   "id": "5bb495af-e0f6-48c5-95f8-db66493727d9",
   "metadata": {},
   "outputs": [
    {
     "name": "stdout",
     "output_type": "stream",
     "text": [
      "<class 'pandas.core.frame.DataFrame'>\n",
      "RangeIndex: 708 entries, 0 to 707\n",
      "Data columns (total 8 columns):\n",
      " #   Column                      Non-Null Count  Dtype  \n",
      "---  ------                      --------------  -----  \n",
      " 0   Gender                      708 non-null    object \n",
      " 1   Study_Hours_per_Week        708 non-null    int64  \n",
      " 2   Attendance_Rate             708 non-null    float64\n",
      " 3   Past_Exam_Scores            708 non-null    int64  \n",
      " 4   Parental_Education_Level    708 non-null    object \n",
      " 5   Internet_Access_at_Home     708 non-null    object \n",
      " 6   Extracurricular_Activities  708 non-null    object \n",
      " 7   Pass_Fail                   708 non-null    object \n",
      "dtypes: float64(1), int64(2), object(5)\n",
      "memory usage: 44.4+ KB\n"
     ]
    },
    {
     "data": {
      "text/html": [
       "<div>\n",
       "<style scoped>\n",
       "    .dataframe tbody tr th:only-of-type {\n",
       "        vertical-align: middle;\n",
       "    }\n",
       "\n",
       "    .dataframe tbody tr th {\n",
       "        vertical-align: top;\n",
       "    }\n",
       "\n",
       "    .dataframe thead th {\n",
       "        text-align: right;\n",
       "    }\n",
       "</style>\n",
       "<table border=\"1\" class=\"dataframe\">\n",
       "  <thead>\n",
       "    <tr style=\"text-align: right;\">\n",
       "      <th></th>\n",
       "      <th>Gender</th>\n",
       "      <th>Study_Hours_per_Week</th>\n",
       "      <th>Attendance_Rate</th>\n",
       "      <th>Past_Exam_Scores</th>\n",
       "      <th>Parental_Education_Level</th>\n",
       "      <th>Internet_Access_at_Home</th>\n",
       "      <th>Extracurricular_Activities</th>\n",
       "      <th>Pass_Fail</th>\n",
       "    </tr>\n",
       "  </thead>\n",
       "  <tbody>\n",
       "    <tr>\n",
       "      <th>0</th>\n",
       "      <td>Male</td>\n",
       "      <td>31</td>\n",
       "      <td>68.267841</td>\n",
       "      <td>86</td>\n",
       "      <td>High School</td>\n",
       "      <td>Yes</td>\n",
       "      <td>Yes</td>\n",
       "      <td>Pass</td>\n",
       "    </tr>\n",
       "    <tr>\n",
       "      <th>1</th>\n",
       "      <td>Male</td>\n",
       "      <td>16</td>\n",
       "      <td>78.222927</td>\n",
       "      <td>73</td>\n",
       "      <td>PhD</td>\n",
       "      <td>No</td>\n",
       "      <td>No</td>\n",
       "      <td>Fail</td>\n",
       "    </tr>\n",
       "    <tr>\n",
       "      <th>2</th>\n",
       "      <td>Female</td>\n",
       "      <td>21</td>\n",
       "      <td>87.525096</td>\n",
       "      <td>74</td>\n",
       "      <td>PhD</td>\n",
       "      <td>Yes</td>\n",
       "      <td>No</td>\n",
       "      <td>Fail</td>\n",
       "    </tr>\n",
       "    <tr>\n",
       "      <th>3</th>\n",
       "      <td>Female</td>\n",
       "      <td>27</td>\n",
       "      <td>92.076483</td>\n",
       "      <td>99</td>\n",
       "      <td>Bachelors</td>\n",
       "      <td>No</td>\n",
       "      <td>No</td>\n",
       "      <td>Pass</td>\n",
       "    </tr>\n",
       "    <tr>\n",
       "      <th>4</th>\n",
       "      <td>Female</td>\n",
       "      <td>37</td>\n",
       "      <td>98.655517</td>\n",
       "      <td>63</td>\n",
       "      <td>Masters</td>\n",
       "      <td>No</td>\n",
       "      <td>Yes</td>\n",
       "      <td>Pass</td>\n",
       "    </tr>\n",
       "  </tbody>\n",
       "</table>\n",
       "</div>"
      ],
      "text/plain": [
       "   Gender  Study_Hours_per_Week  Attendance_Rate  Past_Exam_Scores  \\\n",
       "0    Male                    31        68.267841                86   \n",
       "1    Male                    16        78.222927                73   \n",
       "2  Female                    21        87.525096                74   \n",
       "3  Female                    27        92.076483                99   \n",
       "4  Female                    37        98.655517                63   \n",
       "\n",
       "  Parental_Education_Level Internet_Access_at_Home Extracurricular_Activities  \\\n",
       "0              High School                     Yes                        Yes   \n",
       "1                      PhD                      No                         No   \n",
       "2                      PhD                     Yes                         No   \n",
       "3                Bachelors                      No                         No   \n",
       "4                  Masters                      No                        Yes   \n",
       "\n",
       "  Pass_Fail  \n",
       "0      Pass  \n",
       "1      Fail  \n",
       "2      Fail  \n",
       "3      Pass  \n",
       "4      Pass  "
      ]
     },
     "execution_count": 3,
     "metadata": {},
     "output_type": "execute_result"
    }
   ],
   "source": [
    "# 불필요한 특징 제거\n",
    "df.drop(columns=[\"Student_ID\", \"Final_Exam_Score\"], inplace=True)\n",
    "\n",
    "# 데이터 구조 확인\n",
    "df.info()\n",
    "df.head()"
   ]
  },
  {
   "cell_type": "markdown",
   "id": "6a2cb9fb",
   "metadata": {},
   "source": [
    "## 2. 데이터 준비"
   ]
  },
  {
   "cell_type": "code",
   "execution_count": 4,
   "id": "cb165231",
   "metadata": {},
   "outputs": [],
   "source": [
    "# 타겟값 변환\n",
    "df[\"Pass_Fail\"] = df[\"Pass_Fail\"].map({\"Pass\": 1, \"Fail\": 0})\n",
    "\n",
    "# 피처 구분\n",
    "numeric_features = [\"Study_Hours_per_Week\", \"Attendance_Rate\", \"Past_Exam_Scores\"]\n",
    "categorical_features = [\"Gender\", \"Parental_Education_Level\", \"Internet_Access_at_Home\", \"Extracurricular_Activities\"]\n",
    "\n",
    "# X, y 분리\n",
    "X = df[numeric_features + categorical_features]\n",
    "y = df[\"Pass_Fail\"]"
   ]
  },
  {
   "cell_type": "markdown",
   "id": "5005357e",
   "metadata": {},
   "source": [
    "## 3. 데이터 분할"
   ]
  },
  {
   "cell_type": "code",
   "execution_count": 5,
   "id": "fc8eee99",
   "metadata": {},
   "outputs": [],
   "source": [
    "X_train, X_test, y_train, y_test = train_test_split(\n",
    "    X, y, test_size=0.2, random_state=42\n",
    ")"
   ]
  },
  {
   "cell_type": "markdown",
   "id": "8a68242b",
   "metadata": {},
   "source": [
    "## 4-5. 전처리 파이프라인 구성"
   ]
  },
  {
   "cell_type": "code",
   "execution_count": 6,
   "id": "9ee0abd5-a572-4ab9-a301-1922aac94831",
   "metadata": {},
   "outputs": [],
   "source": [
    "# 수치형 변수는 표준화 (평균 0, 표준편차 1)\n",
    "numeric_transformer = Pipeline([\n",
    "    ('scaler', StandardScaler())\n",
    "])\n",
    "\n",
    "# 범주형 변수는 원-핫 인코딩 처리\n",
    "categorical_transformer = Pipeline([\n",
    "    ('onehot', OneHotEncoder(handle_unknown='ignore'))\n",
    "])\n",
    "\n",
    "# ColumnTransformer를 사용해 수치형과 범주형 전처리를 통합\n",
    "preprocessor = ColumnTransformer([\n",
    "    ('num', numeric_transformer, numeric_features),\n",
    "    ('cat', categorical_transformer, categorical_features)\n",
    "])"
   ]
  },
  {
   "cell_type": "markdown",
   "id": "8a33b07f",
   "metadata": {},
   "source": [
    "## 6. 전처리 + 모델 통합 파이프라인 구성"
   ]
  },
  {
   "cell_type": "code",
   "execution_count": 7,
   "id": "a808235d",
   "metadata": {},
   "outputs": [],
   "source": [
    "# 전처리 파이프라인과 로지스틱 회귀 기반 SGDClassifier를 결합\n",
    "\n",
    "clf = Pipeline([\n",
    "    ('preprocessor', preprocessor),\n",
    "    ('classifier', SGDClassifier(loss='log_loss', max_iter=1000, random_state=42))\n",
    "])"
   ]
  },
  {
   "cell_type": "markdown",
   "id": "7b60bb50",
   "metadata": {},
   "source": [
    "## 7. 교차 검증"
   ]
  },
  {
   "cell_type": "code",
   "execution_count": 8,
   "id": "ff7d1ab2",
   "metadata": {},
   "outputs": [
    {
     "name": "stdout",
     "output_type": "stream",
     "text": [
      "Fold별 정확도: [0.77777778 0.77248677 0.79255319]\n",
      "평균 정확도: 0.7809392472513039\n"
     ]
    }
   ],
   "source": [
    "# 3-Fold 교차검증 정확도 측정\n",
    "cv_scores = cross_val_score(clf, X_train, y_train, cv=3, scoring=\"accuracy\")\n",
    "\n",
    "# 결과 출력\n",
    "print(\"Fold별 정확도:\", cv_scores)\n",
    "print(\"평균 정확도:\", cv_scores.mean())"
   ]
  },
  {
   "cell_type": "markdown",
   "id": "67d94fe1",
   "metadata": {},
   "source": [
    "## 8. 모델 학습 및 임계값 조정"
   ]
  },
  {
   "cell_type": "code",
   "execution_count": 9,
   "id": "a177cc8c",
   "metadata": {},
   "outputs": [
    {
     "data": {
      "image/png": "[encoded data removed]",
      "text/plain": [
       "<Figure size 800x400 with 1 Axes>"
      ]
     },
     "metadata": {},
     "output_type": "display_data"
    }
   ],
   "source": [
    "clf.fit(X_train, y_train)\n",
    "decision_scores = clf.decision_function(X_test)\n",
    "\n",
    "precisions, recalls, thresholds = precision_recall_curve(y_test, decision_scores)\n",
    "\n",
    "plt.figure(figsize=(8, 4))\n",
    "plt.hist(decision_scores, bins=30, edgecolor=\"k\")\n",
    "plt.title(\"Decision Score Histogram\")\n",
    "plt.xlabel(\"Score\")\n",
    "plt.ylabel(\"Frequency\")\n",
    "plt.show()"
   ]
  },
  {
   "cell_type": "code",
   "execution_count": 10,
   "id": "0aad722e-06d4-49a2-a9c3-03e12e7ab165",
   "metadata": {},
   "outputs": [
    {
     "name": "stdout",
     "output_type": "stream",
     "text": [
      "정밀도: 0.696078431372549\n",
      "재현율: 1.0\n",
      "F1 점수: 0.8208092485549133\n",
      "혼동 행렬:\n",
      " [[40 31]\n",
      " [ 0 71]]\n"
     ]
    }
   ],
   "source": [
    "# -0.5 임계값 설정 (정밀도와 재현율의 균형점으로 가정)\n",
    "custom_threshold = -0.5\n",
    "y_pred_custom = (decision_scores > custom_threshold).astype(int)\n",
    "\n",
    "precision = precision_score(y_test, y_pred_custom)\n",
    "recall = recall_score(y_test, y_pred_custom)\n",
    "f1 = f1_score(y_test, y_pred_custom)\n",
    "conf_matrix = confusion_matrix(y_test, y_pred_custom)\n",
    "\n",
    "print(\"정밀도:\", precision)\n",
    "print(\"재현율:\", recall)\n",
    "print(\"F1 점수:\", f1)\n",
    "print(\"혼동 행렬:\\n\", conf_matrix) # hitmap으로 변경하기"
   ]
  },
  {
   "cell_type": "markdown",
   "id": "dd64cd4b",
   "metadata": {},
   "source": [
    "## 9. 최종 평가"
   ]
  },
  {
   "cell_type": "code",
   "execution_count": 11,
   "id": "c083a35d",
   "metadata": {},
   "outputs": [
    {
     "name": "stdout",
     "output_type": "stream",
     "text": [
      "기본 predict() 정확도: 0.8309859154929577\n",
      "임계값 적용 classification report:\n",
      "               precision    recall  f1-score   support\n",
      "\n",
      "        Fail       1.00      0.56      0.72        71\n",
      "        Pass       0.70      1.00      0.82        71\n",
      "\n",
      "    accuracy                           0.78       142\n",
      "   macro avg       0.85      0.78      0.77       142\n",
      "weighted avg       0.85      0.78      0.77       142\n",
      "\n"
     ]
    }
   ],
   "source": [
    "y_pred_default = clf.predict(X_test)\n",
    "default_acc = accuracy_score(y_test, y_pred_default)\n",
    "print(\"기본 predict() 정확도:\", default_acc)\n",
    "\n",
    "# 커스텀 임계값 적용\n",
    "final_report = classification_report(y_test, y_pred_custom, target_names=[\"Fail\", \"Pass\"]) # precision, recall, f1 score은 기본적으로 positive 기반 / 그걸 반대로 뒤집어야 negative 중심\n",
    "print(\"임계값 적용 classification report:\\n\", final_report) # 모델을 튜닝하는 것이 아닌, 우리 입맛에 맞게 최종 결과를 조금 바꾼 것"
   ]
  },
  {
   "cell_type": "code",
   "execution_count": null,
   "id": "fb21c5bd-e628-4851-b007-012a37f2040a",
   "metadata": {},
   "outputs": [],
   "source": []
  }
 ],
 "metadata": {
  "kernelspec": {
   "display_name": "Python 3 (ipykernel)",
   "language": "python",
   "name": "python3"
  },
  "language_info": {
   "codemirror_mode": {
    "name": "ipython",
    "version": 3
   },
   "file_extension": ".py",
   "mimetype": "text/x-python",
   "name": "python",
   "nbconvert_exporter": "python",
   "pygments_lexer": "ipython3",
   "version": "3.11.11"
  }
 },
 "nbformat": 4,
 "nbformat_minor": 5
}
